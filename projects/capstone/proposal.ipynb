{
 "cells": [
  {
   "cell_type": "markdown",
   "metadata": {},
   "source": [
    "# Machine Learning Engineer Nanodegree\n",
    "## Capstone Project Proposal \n",
    "### Airbnb New  User Booking Dataset\n",
    "Rohan Verma  \n",
    "June 15th, 2017\n"
   ]
  },
  {
   "cell_type": "markdown",
   "metadata": {},
   "source": [
    "### Project Overview\n",
    "\n",
    "In this project, I plan to use Machine Learning Techniques to predict in which country a new user will make their first booking using the [Airbnb New User Bookings](https://www.kaggle.com/c/airbnb-recruiting-new-user-bookings). This project will involve data cleaning, data exploration using visualizations, and testing various algorithms for classification for the same."
   ]
  },
  {
   "cell_type": "markdown",
   "metadata": {},
   "source": [
    "### Problem Statement\n",
    "\n",
    "Airbnb, which is a online marketplace where people list, discover, and book accomodations around the world. It has collected various datapoints about users. This data about the patterns of its present user base can be utilized to predict patterns about its future users to provide them with customized suggestions to serve Airbnb's customers better. \n",
    "\n",
    "Using this data, the challenge is to predict the destination of choice for the users' first booking."
   ]
  },
  {
   "cell_type": "markdown",
   "metadata": {},
   "source": [
    "### Datasets and Inputs\n",
    "\n",
    "The dataset is composed of 5 CSV files. It has been obtained from a Kaggle Competition provided by Airbnb. [[link]](https://www.kaggle.com/c/airbnb-recruiting-new-user-bookings/data)\n",
    "\n",
    "The most important file is the `train_users` file which has 16 columns containing user id, dates of account creation, first booking date, gender, age, signup method, signup app, destination etc along with the target variable `country_destination`. The `test_users` is similar to the previous file discussed but does not have our target variable and we have to use these to predict the destination.\n",
    "\n",
    "The other three files contain web session logs (`sessions.csv`) for the users, summary statistics of destination countries (`countries`) and summary statistics of about the users age group, gender, etc. (`age_gender_bkts.csv`)\n",
    "\n",
    "\n"
   ]
  },
  {
   "cell_type": "markdown",
   "metadata": {},
   "source": [
    "### Solution Statement\n",
    "\n",
    "The solution will largely utilize similarites in user behaviour considering people having similar demographics are likely to perform similar actions. This will be helpful for us to test supervised learning models to predict the behavious of new users. I will then test various models we have learned in this course along with techniques such Grid-SearchCV to optimize and other models such as XGBoost which are used effectively in competitive environments such Kaggle."
   ]
  },
  {
   "cell_type": "markdown",
   "metadata": {},
   "source": [
    "### Metrics\n",
    "\n",
    "Since this is a Kaggle Challenge, we already have an evaluation metric, that is the NDCG (Normalized Discounted Cumulative Gain)\n",
    "\n",
    "For each new user, we are to make a maximum of 5 predictions on the country of the first booking. The ground truth country is marked with relevance = 1, while the rest have relevance = 0.\n",
    "\n",
    "$DCG_k=\\sum_{i=1}^k\\frac{2^{rel_i}-1}{\\log_2{\\left(i+1\\right)}}$\n",
    "\n",
    "$nDCG_k=\\frac{DCG_k}{IDCG_k}$\n",
    "\n",
    "where $rel_i$ is the relevance of the result at position $i$ and $k = 5$.\n",
    "\n",
    "For example, if for a particular user the destination is FR, then the predictions become:\n",
    "\n",
    "[ FR ] gives a $NDCG=\\frac{2^{1}-1}{log_{2}(1+1)}=1.0$\n",
    "\n",
    "[ US, FR ] gives a $DCG=\\frac{2^{0}-1}{log_{2}(1+1)}+\\frac{2^{1}-1}{log_{2}(2+1)}=\\frac{1}{1.58496}=0.6309$\n",
    "\n",
    "To determine a baseline benchmark, we will find the metric value obtained by predicting the 5 most common outcomes [NDF, US, OTHER, FR, IT] against the train and test datasets."
   ]
  },
  {
   "cell_type": "markdown",
   "metadata": {},
   "source": [
    "### Project Design\n",
    "\n",
    "The project will be composed of the following steps:\n",
    "\n",
    "- Data Exploration: Visualizing the dataset to gain insight into patterns and decide upon relevant features and improving the quality of the dataset.\n",
    "\n",
    "- Training: Train models by considering different supervised models using techniques such as cross validation and optimizing using GridSearchCV.\n",
    "\n",
    "- Testing and Optimizing: Using the trained models to test on Kaggle."
   ]
  }
 ],
 "metadata": {
  "kernelspec": {
   "display_name": "Python 2",
   "language": "python",
   "name": "python2"
  },
  "language_info": {
   "codemirror_mode": {
    "name": "ipython",
    "version": 2
   },
   "file_extension": ".py",
   "mimetype": "text/x-python",
   "name": "python",
   "nbconvert_exporter": "python",
   "pygments_lexer": "ipython2",
   "version": "2.7.13"
  }
 },
 "nbformat": 4,
 "nbformat_minor": 2
}
